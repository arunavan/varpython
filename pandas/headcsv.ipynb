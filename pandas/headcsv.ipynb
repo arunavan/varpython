import pandas as pd

df = pd.read_csv('data.csv')

print(df.head(3))

print(df.head())


print(df.tail())


print(df.info())
