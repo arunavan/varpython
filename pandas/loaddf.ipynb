{
 "cells": [
  {
   "cell_type": "markdown",
   "id": "1b68f7b9-d702-4c18-8c6b-eeece38fa339",
   "metadata": {},
   "source": [
    "*** reading from CSV file creating data frame using pandas ***"
   ]
  },
  {
   "cell_type": "code",
   "execution_count": 3,
   "id": "9fb8d631-fd9d-4600-8214-078ef7814cf5",
   "metadata": {},
   "outputs": [
    {
     "name": "stdout",
     "output_type": "stream",
     "text": [
      "      Duration  Pulse  Maxpulse  Calories\n",
      "0           60    110       130     409.1\n",
      "1           60    117       145     479.0\n",
      "2           60    103       135     340.0\n",
      "3           45    109       175     282.4\n",
      "4           45    117       148     406.0\n",
      "      Duration  Pulse  Maxpulse  Calories\n",
      "0           60    110       130     409.1\n",
      "1           60    117       145     479.0\n",
      "2           60    103       135     340.0\n",
      "3           45    109       175     282.4\n",
      "4           45    117       148     406.0\n"
     ]
    }
   ],
   "source": [
    "import pandas as pd\n",
    "df = pd.read_csv('data.csv')\n",
    "print(df) \n",
    "print(df.to_string()) \n"
   ]
  },
  {
   "cell_type": "code",
   "execution_count": null,
   "id": "aa6f4d84-036c-484c-a403-c47e2fa86cf9",
   "metadata": {},
   "outputs": [],
   "source": []
  }
 ],
 "metadata": {
  "kernelspec": {
   "display_name": "Python 3 (ipykernel)",
   "language": "python",
   "name": "python3"
  },
  "language_info": {
   "codemirror_mode": {
    "name": "ipython",
    "version": 3
   },
   "file_extension": ".py",
   "mimetype": "text/x-python",
   "name": "python",
   "nbconvert_exporter": "python",
   "pygments_lexer": "ipython3",
   "version": "3.11.4"
  },
  "widgets": {
   "application/vnd.jupyter.widget-state+json": {
    "state": {},
    "version_major": 2,
    "version_minor": 0
   }
  }
 },
 "nbformat": 4,
 "nbformat_minor": 5
}
