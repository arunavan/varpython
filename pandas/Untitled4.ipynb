{
 "cells": [
  {
   "cell_type": "code",
   "execution_count": 1,
   "id": "cbefbfc4-d829-429d-b5e5-9401813459e1",
   "metadata": {},
   "outputs": [
    {
     "name": "stdout",
     "output_type": "stream",
     "text": [
      "welcome\n"
     ]
    }
   ],
   "source": [
    "print('welcome')"
   ]
  },
  {
   "cell_type": "markdown",
   "id": "ef5a4b44-c527-4a6e-ac30-817ffa229536",
   "metadata": {},
   "source": [
    "*** my first pyhton notebook ***"
   ]
  },
  {
   "cell_type": "markdown",
   "id": "b2a9cd24-f058-4d28-9775-3320c4a1d07c",
   "metadata": {},
   "source": [
    "link to python tutorial <a href=\"https://www.w3schools.com/python/pandas/trypandas.asp?filename=demo_pandas_csv\">  click here</a>"
   ]
  },
  {
   "cell_type": "markdown",
   "id": "ae1c1b47-e16c-468b-8802-ac26b6d842d4",
   "metadata": {},
   "source": [
    "from IPython.display import YouTubeVideo\n",
    "\n",
    "YouTubeVideo('aLXqnuysIU', width=500, height=300)"
   ]
  },
  {
   "cell_type": "code",
   "execution_count": 2,
   "id": "1c03cc29-ec48-4bce-a040-c6fbe47b20eb",
   "metadata": {},
   "outputs": [
    {
     "name": "stdout",
     "output_type": "stream",
     "text": [
      "hello\n"
     ]
    }
   ],
   "source": [
    "def hello():\n",
    "    print('hello')\n",
    "hello()"
   ]
  },
  {
   "cell_type": "code",
   "execution_count": null,
   "id": "2a757198-3b1b-4307-aaf3-a822744a1d16",
   "metadata": {},
   "outputs": [],
   "source": []
  }
 ],
 "metadata": {
  "kernelspec": {
   "display_name": "Python 3 (ipykernel)",
   "language": "python",
   "name": "python3"
  },
  "language_info": {
   "codemirror_mode": {
    "name": "ipython",
    "version": 3
   },
   "file_extension": ".py",
   "mimetype": "text/x-python",
   "name": "python",
   "nbconvert_exporter": "python",
   "pygments_lexer": "ipython3",
   "version": "3.11.4"
  },
  "widgets": {
   "application/vnd.jupyter.widget-state+json": {
    "state": {},
    "version_major": 2,
    "version_minor": 0
   }
  }
 },
 "nbformat": 4,
 "nbformat_minor": 5
}
