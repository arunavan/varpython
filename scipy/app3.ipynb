{
 "cells": [
  {
   "cell_type": "code",
   "execution_count": 1,
   "id": "ea233009-1b11-49e0-b33e-d2a3b85ad45f",
   "metadata": {},
   "outputs": [
    {
     "name": "stdout",
     "output_type": "stream",
     "text": [
      "{'__header__': b'MATLAB 5.0 MAT-file Platform: nt, Created on: Fri Jul 26 17:22:42 2024', '__version__': '1.0', '__globals__': [], 'vec': array([[0, 1, 2, 3, 4, 5, 6, 7, 8, 9]])}\n"
     ]
    }
   ],
   "source": [
    "from scipy import io\n",
    "import numpy as np\n",
    "arr = np.array([0, 1, 2, 3, 4, 5, 6, 7, 8, 9,])\n",
    "# Export:\n",
    "io.savemat('arr.mat', {\"vec\": arr})\n",
    "# Import:\n",
    "mydata = io.loadmat('arr.mat')\n",
    "print(mydata)"
   ]
  },
  {
   "cell_type": "markdown",
   "id": "baa46ca8-48c2-49bb-be38-7c3bdf75b997",
   "metadata": {},
   "source": [
    "## Matlab example ##"
   ]
  },
  {
   "cell_type": "code",
   "execution_count": 4,
   "id": "771df499-5680-4d1b-907b-5f9713b81feb",
   "metadata": {},
   "outputs": [
    {
     "name": "stdout",
     "output_type": "stream",
     "text": [
      "{'__header__': b'MATLAB 5.0 MAT-file Platform: nt, Created on: Fri Jul 26 17:24:52 2024', '__version__': '1.0', '__globals__': [], 'vect': array([[0, 1, 2, 3, 4, 5, 6, 7, 8, 9]])}\n"
     ]
    }
   ],
   "source": [
    "import scipy.io as sio\n",
    "import numpy as np\n",
    "\n",
    "#Save a mat file\n",
    "vect = np.arange(10)\n",
    "sio.savemat('array.mat', {'vect':vect})\n",
    "\n",
    "#Now Load the File\n",
    "mat_file_content = sio.loadmat('array.mat')\n",
    "print(mat_file_content)"
   ]
  },
  {
   "cell_type": "code",
   "execution_count": null,
   "id": "20fff00a-d723-4034-abf6-c7cfe6da4016",
   "metadata": {},
   "outputs": [],
   "source": []
  }
 ],
 "metadata": {
  "kernelspec": {
   "display_name": "Python 3 (ipykernel)",
   "language": "python",
   "name": "python3"
  },
  "language_info": {
   "codemirror_mode": {
    "name": "ipython",
    "version": 3
   },
   "file_extension": ".py",
   "mimetype": "text/x-python",
   "name": "python",
   "nbconvert_exporter": "python",
   "pygments_lexer": "ipython3",
   "version": "3.12.4"
  },
  "widgets": {
   "application/vnd.jupyter.widget-state+json": {
    "state": {},
    "version_major": 2,
    "version_minor": 0
   }
  }
 },
 "nbformat": 4,
 "nbformat_minor": 5
}
